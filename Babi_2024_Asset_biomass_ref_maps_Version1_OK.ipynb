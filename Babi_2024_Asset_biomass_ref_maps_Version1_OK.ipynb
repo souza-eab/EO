{
  "nbformat": 4,
  "nbformat_minor": 0,
  "metadata": {
    "colab": {
      "provenance": [],
      "authorship_tag": "ABX9TyMORE8QyQ+Pb0Sjq5o4PrEh",
      "include_colab_link": true
    },
    "kernelspec": {
      "name": "python3",
      "display_name": "Python 3"
    },
    "language_info": {
      "name": "python"
    }
  },
  "cells": [
    {
      "cell_type": "markdown",
      "metadata": {
        "id": "view-in-github",
        "colab_type": "text"
      },
      "source": [
        "<a href=\"https://colab.research.google.com/github/souza-eab/EO/blob/main/Babi_2024_Asset_biomass_ref_maps_Version1_OK.ipynb\" target=\"_parent\"><img src=\"https://colab.research.google.com/assets/colab-badge.svg\" alt=\"Open In Colab\"/></a>"
      ]
    },
    {
      "cell_type": "markdown",
      "source": [
        "# 1- Login - set your project in GCP"
      ],
      "metadata": {
        "id": "QQb5zyqUO_9L"
      }
    },
    {
      "cell_type": "code",
      "source": [
        "import ee\n",
        "import os"
      ],
      "metadata": {
        "id": "LmBJi-SrHq-x"
      },
      "execution_count": null,
      "outputs": []
    },
    {
      "cell_type": "code",
      "source": [
        "import pandas as pd\n",
        "from google.cloud import storage"
      ],
      "metadata": {
        "id": "YUw8OCl8yMx4"
      },
      "execution_count": null,
      "outputs": []
    },
    {
      "cell_type": "markdown",
      "source": [
        "#2 - Autenticar chaves"
      ],
      "metadata": {
        "id": "S9UaOkIcOsjE"
      }
    },
    {
      "cell_type": "code",
      "source": [
        "!earthengine authenticate --auth_mode=gcloud"
      ],
      "metadata": {
        "colab": {
          "base_uri": "https://localhost:8080/"
        },
        "id": "Cf9IYpL7HtVN",
        "outputId": "d645ca06-b664-4a5c-b7eb-231c6a4a1672"
      },
      "execution_count": null,
      "outputs": [
        {
          "output_type": "stream",
          "name": "stdout",
          "text": [
            "Authenticate: Limited support in Colab. Use ee.Authenticate() or --auth_mode=notebook instead.\n",
            "W0520 18:17:32.113934 132456755265536 _default.py:683] No project ID could be determined. Consider running `gcloud config set project` or setting the GOOGLE_CLOUD_PROJECT environment variable\n",
            "Fetching credentials using gcloud\n",
            "Go to the following link in your browser, and complete the sign-in prompts:\n",
            "\n",
            "    https://accounts.google.com/o/oauth2/auth?response_type=code&client_id=764086051850-6qr4p6gpi6hn506pt8ejuq83di341hur.apps.googleusercontent.com&redirect_uri=https%3A%2F%2Fsdk.cloud.google.com%2Fapplicationdefaultauthcode.html&scope=https%3A%2F%2Fwww.googleapis.com%2Fauth%2Fearthengine+https%3A%2F%2Fwww.googleapis.com%2Fauth%2Fcloud-platform+https%3A%2F%2Fwww.googleapis.com%2Fauth%2Fdevstorage.full_control&state=ntNFpO7fU0KGkwLjkpIvXaKP9i3iJu&prompt=consent&token_usage=remote&access_type=offline&code_challenge=nQ4XeTdS5sWziJ1IGrxR08TDXWdhIRXVwacvZmK3fCY&code_challenge_method=S256\n",
            "\n",
            "Once finished, enter the verification code provided in your browser: 4/0AdLIrYfNGFUu_Og9T28d_rJNcK2YotqgPOQTb4X8vRjbD4ziNDUPupwViAkBkiAErb6VAg\n",
            "\n",
            "Credentials saved to file: [/content/.config/application_default_credentials.json]\n",
            "\n",
            "These credentials will be used by any library that requests Application Default Credentials (ADC).\n",
            "\u001b[1;33mWARNING:\u001b[0m \n",
            "Cannot find a quota project to add to ADC. You might receive a \"quota exceeded\" or \"API not enabled\" error. Run $ gcloud auth application-default set-quota-project to add a quota project.\n",
            "\n",
            "Successfully saved authorization token.\n"
          ]
        }
      ]
    },
    {
      "cell_type": "markdown",
      "source": [
        "#3 - Setar projeto para cobrança"
      ],
      "metadata": {
        "id": "BN0BlKrLO3rz"
      }
    },
    {
      "cell_type": "code",
      "source": [
        "!gcloud auth application-default set-quota-project hwp-qcn"
      ],
      "metadata": {
        "colab": {
          "base_uri": "https://localhost:8080/"
        },
        "id": "Izgw48lvFP9G",
        "outputId": "4f6c66a8-25db-4c11-de3e-0505c346c6c2"
      },
      "execution_count": null,
      "outputs": [
        {
          "output_type": "stream",
          "name": "stdout",
          "text": [
            "\n",
            "Credentials saved to file: [/content/.config/application_default_credentials.json]\n",
            "\n",
            "These credentials will be used by any library that requests Application Default Credentials (ADC).\n",
            "\n",
            "Quota project \"hwp-qcn\" was added to ADC which can be used by Google client libraries for billing and quota. Note that some services may still bill the project owning the resource.\n"
          ]
        }
      ]
    },
    {
      "cell_type": "code",
      "source": [
        "#Conferir\n",
        "from pprint import pprint\n",
        "ee.Authenticate()"
      ],
      "metadata": {
        "colab": {
          "base_uri": "https://localhost:8080/"
        },
        "id": "Ut-uoOAGC1Mh",
        "outputId": "d81cbc0f-b750-4b28-9e90-50a28c060543"
      },
      "execution_count": null,
      "outputs": [
        {
          "output_type": "execute_result",
          "data": {
            "text/plain": [
              "True"
            ]
          },
          "metadata": {},
          "execution_count": 5
        }
      ]
    },
    {
      "cell_type": "markdown",
      "source": [
        "# 4 - Quais arquivos estam na pasta da GCP"
      ],
      "metadata": {
        "id": "xUe0mxZPPCG5"
      }
    },
    {
      "cell_type": "code",
      "source": [
        "from google.cloud import storage\n",
        "\n",
        "def list_files_in_bucket(bucket_name, project_id):\n",
        "    \"\"\"\n",
        "    Lists all files in the specified bucket.\n",
        "\n",
        "    Args:\n",
        "        bucket_name: Name of the Google Cloud Storage bucket.\n",
        "        project_id: ID of your Google Cloud project.\n",
        "\n",
        "    Returns:\n",
        "        List of file names.\n",
        "    \"\"\"\n",
        "    # Initialize the Google Cloud Storage client with the project ID\n",
        "    storage_client = storage.Client(project=project_id)\n",
        "\n",
        "    # Get the bucket\n",
        "    bucket = storage_client.get_bucket(bucket_name)\n",
        "\n",
        "    # List all files in the bucket\n",
        "    blobs = bucket.list_blobs()\n",
        "\n",
        "    # Collect file names\n",
        "    file_names = [blob.name for blob in blobs]\n",
        "\n",
        "    return file_names\n",
        "\n",
        "# Specify the name of your bucket and your project ID\n",
        "bucket_name = 'gcp_qcn'\n",
        "project_id = 'hwp-qcn'\n",
        "\n",
        "# List all files in the bucket\n",
        "files_in_bucket = list_files_in_bucket(bucket_name, project_id)\n",
        "\n",
        "# Print the names of all files in the bucket\n",
        "for file_name in files_in_bucket:\n",
        "    print(file_name)"
      ],
      "metadata": {
        "colab": {
          "base_uri": "https://localhost:8080/"
        },
        "id": "LGhdnkHRmvaE",
        "outputId": "bde5790c-45d7-428b-c965-08ad20b065ea"
      },
      "execution_count": null,
      "outputs": [
        {
          "output_type": "stream",
          "name": "stdout",
          "text": [
            "PDigital2000_2023_AMZ_raster.tif\n"
          ]
        }
      ]
    },
    {
      "cell_type": "code",
      "source": [
        "def prepare_data_for_upload(files_in_bucket, bucket_name):\n",
        "    \"\"\"\n",
        "    Prepares data for upload by creating URLs and extracting base names.\n",
        "\n",
        "    Args:\n",
        "        files_in_bucket: List of file names in the bucket.\n",
        "        bucket_name: Name of the Google Cloud Storage bucket.\n",
        "\n",
        "    Returns:\n",
        "        List of Google Cloud Storage URLs, base names, and Google Earth Engine asset paths.\n",
        "    \"\"\"\n",
        "    gcp_files = []\n",
        "    base_names = []\n",
        "    gee_assets = []\n",
        "\n",
        "    for file_name in files_in_bucket:\n",
        "        # Construct GCP file URL\n",
        "        gcp_file_url = f\"gs://{bucket_name}/{file_name}\"\n",
        "        gcp_files.append(gcp_file_url)\n",
        "\n",
        "        # Extract base name\n",
        "        base_name = file_name.split('/')[-1].split('.')[0]\n",
        "        base_names.append(base_name)\n",
        "\n",
        "        # Construct GEE asset path\n",
        "        gee_asset = f\"projects/mapbiomas-workspace/CCAL/DATASETS/PRODES/{base_name}\"\n",
        "        gee_assets.append(gee_asset)\n",
        "\n",
        "    return gcp_files, base_names, gee_assets\n"
      ],
      "metadata": {
        "id": "DxKM4sKZlLi8"
      },
      "execution_count": null,
      "outputs": []
    },
    {
      "cell_type": "markdown",
      "source": [
        "# 5 - Verificar os caminhos da GCP, nome_base que vai para o GEE e no .EE Assets paths\n"
      ],
      "metadata": {
        "id": "sQ-f0lpPPQ6e"
      }
    },
    {
      "cell_type": "code",
      "source": [
        "# Function\n",
        "gcp_files, base_names, gee_assets = prepare_data_for_upload(files_in_bucket, bucket_name)\n",
        "\n",
        "# Prints\n",
        "print(\"Google Cloud Storage URLs:\")\n",
        "for url in gcp_files:\n",
        "    print(url)\n",
        "\n",
        "print(\"\\nBase Names:\")\n",
        "for name in base_names:\n",
        "    print(name)\n",
        "\n",
        "print(\"\\nGoogle Earth Engine Asset Paths:\")\n",
        "for asset in gee_assets:\n",
        "    print(asset)"
      ],
      "metadata": {
        "colab": {
          "base_uri": "https://localhost:8080/"
        },
        "id": "tI1MdNFN6KKQ",
        "outputId": "2e6ba150-87f8-4c45-9d63-a840c7fa30c0"
      },
      "execution_count": null,
      "outputs": [
        {
          "output_type": "stream",
          "name": "stdout",
          "text": [
            "Google Cloud Storage URLs:\n",
            "gs://gcp_qcn/PDigital2000_2023_AMZ_raster.tif\n",
            "\n",
            "Base Names:\n",
            "PDigital2000_2023_AMZ_raster\n",
            "\n",
            "Google Earth Engine Asset Paths:\n",
            "projects/mapbiomas-workspace/CCAL/DATASETS/PRODES/PDigital2000_2023_AMZ_raster\n"
          ]
        }
      ]
    },
    {
      "cell_type": "markdown",
      "source": [
        "# Verificar dados"
      ],
      "metadata": {
        "id": "C7OGFTZSPfzA"
      }
    },
    {
      "cell_type": "code",
      "source": [
        "pip install rasterio"
      ],
      "metadata": {
        "colab": {
          "base_uri": "https://localhost:8080/"
        },
        "id": "iWX6BfsPHQAj",
        "outputId": "a35f99ab-5d45-4ac0-8c6e-49448a0fa5b9"
      },
      "execution_count": null,
      "outputs": [
        {
          "output_type": "stream",
          "name": "stdout",
          "text": [
            "Collecting rasterio\n",
            "  Downloading rasterio-1.3.10-cp310-cp310-manylinux2014_x86_64.whl (21.5 MB)\n",
            "\u001b[2K     \u001b[90m━━━━━━━━━━━━━━━━━━━━━━━━━━━━━━━━━━━━━━━━\u001b[0m \u001b[32m21.5/21.5 MB\u001b[0m \u001b[31m53.4 MB/s\u001b[0m eta \u001b[36m0:00:00\u001b[0m\n",
            "\u001b[?25hCollecting affine (from rasterio)\n",
            "  Downloading affine-2.4.0-py3-none-any.whl (15 kB)\n",
            "Requirement already satisfied: attrs in /usr/local/lib/python3.10/dist-packages (from rasterio) (23.2.0)\n",
            "Requirement already satisfied: certifi in /usr/local/lib/python3.10/dist-packages (from rasterio) (2024.2.2)\n",
            "Requirement already satisfied: click>=4.0 in /usr/local/lib/python3.10/dist-packages (from rasterio) (8.1.7)\n",
            "Requirement already satisfied: cligj>=0.5 in /usr/local/lib/python3.10/dist-packages (from rasterio) (0.7.2)\n",
            "Requirement already satisfied: numpy in /usr/local/lib/python3.10/dist-packages (from rasterio) (1.25.2)\n",
            "Collecting snuggs>=1.4.1 (from rasterio)\n",
            "  Downloading snuggs-1.4.7-py3-none-any.whl (5.4 kB)\n",
            "Requirement already satisfied: click-plugins in /usr/local/lib/python3.10/dist-packages (from rasterio) (1.1.1)\n",
            "Requirement already satisfied: setuptools in /usr/local/lib/python3.10/dist-packages (from rasterio) (67.7.2)\n",
            "Requirement already satisfied: pyparsing>=2.1.6 in /usr/local/lib/python3.10/dist-packages (from snuggs>=1.4.1->rasterio) (3.1.2)\n",
            "Installing collected packages: snuggs, affine, rasterio\n",
            "Successfully installed affine-2.4.0 rasterio-1.3.10 snuggs-1.4.7\n"
          ]
        }
      ]
    },
    {
      "cell_type": "code",
      "source": [
        "import rasterio"
      ],
      "metadata": {
        "id": "W9lfujzqoJMs"
      },
      "execution_count": null,
      "outputs": []
    },
    {
      "cell_type": "code",
      "source": [
        "from google.cloud import storage\n",
        "project_id = 'hwp-qcn'  # ID do projeto\n",
        "client = storage.Client(project=project_id)\n"
      ],
      "metadata": {
        "id": "e65SH-ycHlEz"
      },
      "execution_count": null,
      "outputs": []
    },
    {
      "cell_type": "markdown",
      "source": [
        "### Tipo de dados"
      ],
      "metadata": {
        "id": "2NY0rdS9P2BP"
      }
    },
    {
      "cell_type": "code",
      "source": [
        "import os\n",
        "import rasterio\n",
        "from google.cloud import storage\n",
        "\n",
        "# ID do projeto\n",
        "project_id = 'hwp-qcn'\n",
        "\n",
        "# Inicializar o cliente do Google Cloud Storage\n",
        "client = storage.Client(project=project_id)\n",
        "\n",
        "# Nome do bucket\n",
        "bucket_name = 'gcp_qcn'\n",
        "\n",
        "# Caminhos para os arquivos no bucket\n",
        "gcp_file_urls = [\n",
        "   # 'gs://gcp_qcn/AGB_NVmasked_RF-v0.tif',\n",
        "   # 'gs://gcp_qcn/AGB_NVmasked_RF_cog-v0.tif'\n",
        "]\n",
        "\n",
        "# Baixar e processar cada arquivo\n",
        "for gcp_file_url in gcp_file_urls:\n",
        "    # Obter o nome do arquivo a partir da URL\n",
        "    file_name = gcp_file_url.split('/')[-1]\n",
        "\n",
        "    # Baixar o arquivo do bucket\n",
        "    bucket = client.get_bucket(bucket_name)\n",
        "    blob = bucket.blob(file_name)\n",
        "    download_path = f'/tmp/{file_name}'\n",
        "    blob.download_to_filename(download_path)\n",
        "\n",
        "    # Processar o arquivo usando rasterio\n",
        "    with rasterio.open(download_path) as src:\n",
        "        # Exemplo: obter metadados da imagem\n",
        "        print(src.profile)\n",
        "        # Exemplo: acessar as bandas da imagem\n",
        "        for band in src.indexes:\n",
        "            band_data = src.read(band)\n",
        "            print(band_data)\n",
        "\n",
        "    # Remover o arquivo temporário\n",
        "    os.remove(download_path)\n"
      ],
      "metadata": {
        "id": "CaAiBJIummP_"
      },
      "execution_count": null,
      "outputs": []
    },
    {
      "cell_type": "markdown",
      "source": [
        "#6 - Export from .EE"
      ],
      "metadata": {
        "id": "I6ZHlst2QhY7"
      }
    },
    {
      "cell_type": "code",
      "source": [
        "import subprocess\n",
        "from google.cloud import storage\n",
        "\n",
        "def upload_files_to_earth_engine(bucket_name, asset_name, project_id):\n",
        "    \"\"\"\n",
        "    Uploads files from a Google Cloud Storage bucket to Google Earth Engine.\n",
        "\n",
        "    Args:\n",
        "        bucket_name (str): Name of the Google Cloud Storage bucket.\n",
        "        asset_name (str): Name of the asset in Google Earth Engine.\n",
        "        project_id (str): ID of your Google Cloud project.\n",
        "\n",
        "    Returns:\n",
        "        None\n",
        "    \"\"\"\n",
        "    # Initialize the Google Cloud Storage client with the project ID\n",
        "    storage_client = storage.Client(project=project_id)\n",
        "\n",
        "    # Get the bucket\n",
        "    bucket = storage_client.get_bucket(bucket_name)\n",
        "\n",
        "    # Create empty lists to store file information\n",
        "    gcp_files = []\n",
        "    base_names = []\n",
        "    gee_assets = []\n",
        "\n",
        "    # List all blobs in the bucket and process them\n",
        "    for blob in bucket.list_blobs():\n",
        "        # Build the Google Cloud Storage URL\n",
        "        gcp_file = f'gs://{bucket_name}/{blob.name}'\n",
        "        gcp_files.append(gcp_file)\n",
        "\n",
        "        # Build the base name\n",
        "        base_name = f'{asset_name}/{blob.name.split(\"/\")[-1]}'\n",
        "        base_names.append(base_name)\n",
        "\n",
        "        # Build the Google Earth Engine asset path\n",
        "        gee_asset = f'{asset_name}/{blob.name.split(\"/\")[-1].split(\".\")[0]}'\n",
        "        gee_assets.append(gee_asset)\n",
        "\n",
        "    # Perform batch upload of files to Google Earth Engine\n",
        "    for i, gcp_file in enumerate(gcp_files):\n",
        "        print(f'Ingesting file: {gcp_file}')\n",
        "        print(f'File {i + 1} of {len(gcp_files)} ({round((i + 1) / len(gcp_files) * 100)}%)')\n",
        "\n",
        "        # Upload the file to Google Earth Engine\n",
        "        subprocess.run(['earthengine', 'upload', 'image', '--asset_id=' + gee_assets[i],'--nodata_value=0',  gcp_file])\n",
        "        print('')\n",
        "\n",
        "    print('Upload completed.')\n",
        "\n",
        "# Path assets:\n",
        "bucket_name = 'gcp_qcn'\n",
        "asset_name = 'projects/mapbiomas-workspace/CCAL/DATASETS/PRODES'\n",
        "project_id = 'hwp-qcn'\n",
        "upload_files_to_earth_engine(bucket_name, asset_name, project_id)\n"
      ],
      "metadata": {
        "colab": {
          "base_uri": "https://localhost:8080/"
        },
        "id": "ZeQVB2PMFy0f",
        "outputId": "efddc17a-3ac3-4fa4-c83a-1079220d9947"
      },
      "execution_count": null,
      "outputs": [
        {
          "output_type": "stream",
          "name": "stdout",
          "text": [
            "Ingesting file: gs://gcp_qcn/PDigital2000_2023_AMZ_raster.tif\n",
            "File 1 of 1 (100%)\n",
            "\n",
            "Upload completed.\n"
          ]
        }
      ]
    }
  ]
}